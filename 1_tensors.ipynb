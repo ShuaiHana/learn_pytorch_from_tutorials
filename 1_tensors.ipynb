{
 "cells": [
  {
   "cell_type": "code",
   "execution_count": 1,
   "metadata": {},
   "outputs": [],
   "source": [
    "from __future__ import print_function\n",
    "import torch  # similar to Numpy's ndarray, but can be used on a gpu"
   ]
  },
  {
   "cell_type": "code",
   "execution_count": 2,
   "metadata": {},
   "outputs": [
    {
     "name": "stdout",
     "output_type": "stream",
     "text": [
      "tensor([[-0.0000,  0.0000, -0.0001],\n",
      "        [ 0.0000, -0.0001,  0.0000],\n",
      "        [ 0.0000,  0.0000,  0.0000],\n",
      "        [ 0.0000,  0.0000,  0.0000],\n",
      "        [ 0.0000,  0.0000, -0.0001]])\n"
     ]
    }
   ],
   "source": [
    "x = torch.empty(5, 3)  # uninitialized matrix\n",
    "print(x)"
   ]
  },
  {
   "cell_type": "code",
   "execution_count": 3,
   "metadata": {},
   "outputs": [
    {
     "name": "stdout",
     "output_type": "stream",
     "text": [
      "tensor([[0.3777, 0.8857, 0.0503],\n",
      "        [0.9813, 0.9514, 0.6315],\n",
      "        [0.9943, 0.3454, 0.1676],\n",
      "        [0.9159, 0.3575, 0.3050],\n",
      "        [0.9197, 0.1947, 0.4660]])\n"
     ]
    }
   ],
   "source": [
    "x = torch.rand(5, 3)  # randomly initialized matrix\n",
    "print(x)"
   ]
  },
  {
   "cell_type": "code",
   "execution_count": 5,
   "metadata": {},
   "outputs": [
    {
     "name": "stdout",
     "output_type": "stream",
     "text": [
      "tensor([[0, 0, 0],\n",
      "        [0, 0, 0],\n",
      "        [0, 0, 0],\n",
      "        [0, 0, 0],\n",
      "        [0, 0, 0]])\n"
     ]
    }
   ],
   "source": [
    "x = torch.zeros(5, 3, dtype=torch.long)  # 0 initialized matrix of dtype long\n",
    "print(x)"
   ]
  },
  {
   "cell_type": "code",
   "execution_count": 6,
   "metadata": {},
   "outputs": [
    {
     "name": "stdout",
     "output_type": "stream",
     "text": [
      "tensor([5.5000, 3.0000])\n"
     ]
    }
   ],
   "source": [
    "x = torch.tensor([5.5, 3]) # construct a tensor from data\n",
    "print(x)"
   ]
  },
  {
   "cell_type": "code",
   "execution_count": 7,
   "metadata": {},
   "outputs": [
    {
     "name": "stdout",
     "output_type": "stream",
     "text": [
      "torch.float32\n"
     ]
    }
   ],
   "source": [
    "print(x.dtype)  \n",
    "\"\"\"\n",
    "so the default dtype is float32 \n",
    "\"\"\""
   ]
  },
  {
   "cell_type": "code",
   "execution_count": 8,
   "metadata": {},
   "outputs": [
    {
     "name": "stdout",
     "output_type": "stream",
     "text": [
      "tensor([[1., 1., 1.],\n",
      "        [1., 1., 1.],\n",
      "        [1., 1., 1.],\n",
      "        [1., 1., 1.],\n",
      "        [1., 1., 1.]], dtype=torch.float64)\n",
      "tensor([[-1.1580,  0.1359, -1.3314],\n",
      "        [ 0.2555,  0.2630, -0.0297],\n",
      "        [-0.8691, -0.9252,  0.4764],\n",
      "        [-0.7471, -1.6413, -0.5736],\n",
      "        [-0.3603,  1.1194, -0.5668]])\n"
     ]
    }
   ],
   "source": [
    "# use a existing tensor to create a new tensor\n",
    "x = x.new_ones(5, 3, dtype=torch.double)  # 1 initialized matrix of dtype double\n",
    "print(x)\n",
    "x = torch.randn_like(x, dtype=torch.float)   # randomly initialized based on x and override dtype\n",
    "print(x)"
   ]
  },
  {
   "cell_type": "code",
   "execution_count": 9,
   "metadata": {},
   "outputs": [
    {
     "name": "stdout",
     "output_type": "stream",
     "text": [
      "torch.Size([5, 3])\n"
     ]
    },
    {
     "data": {
      "text/plain": [
       "torch.Size"
      ]
     },
     "execution_count": 9,
     "metadata": {},
     "output_type": "execute_result"
    }
   ],
   "source": [
    "print(x.size())\n",
    "type(x.size())\n",
    "\"\"\"\n",
    "torch.Size is in fact a tuple, so it support all tuple operations.\n",
    "\"\"\""
   ]
  },
  {
   "cell_type": "code",
   "execution_count": 10,
   "metadata": {},
   "outputs": [
    {
     "name": "stdout",
     "output_type": "stream",
     "text": [
      "tensor([[-0.7150,  0.6751, -0.9438],\n",
      "        [ 1.1003,  0.3493,  0.3594],\n",
      "        [-0.8663,  0.0337,  0.7717],\n",
      "        [-0.7004, -1.1063, -0.5543],\n",
      "        [ 0.4439,  2.0010,  0.0628]])\n",
      "tensor([[-0.7150,  0.6751, -0.9438],\n",
      "        [ 1.1003,  0.3493,  0.3594],\n",
      "        [-0.8663,  0.0337,  0.7717],\n",
      "        [-0.7004, -1.1063, -0.5543],\n",
      "        [ 0.4439,  2.0010,  0.0628]])\n",
      "tensor([[-0.7150,  0.6751, -0.9438],\n",
      "        [ 1.1003,  0.3493,  0.3594],\n",
      "        [-0.8663,  0.0337,  0.7717],\n",
      "        [-0.7004, -1.1063, -0.5543],\n",
      "        [ 0.4439,  2.0010,  0.0628]])\n",
      "tensor([[-0.7150,  0.6751, -0.9438],\n",
      "        [ 1.1003,  0.3493,  0.3594],\n",
      "        [-0.8663,  0.0337,  0.7717],\n",
      "        [-0.7004, -1.1063, -0.5543],\n",
      "        [ 0.4439,  2.0010,  0.0628]])\n"
     ]
    }
   ],
   "source": [
    "y = torch.rand(5,3)\n",
    "z = x + y\n",
    "print(z)\n",
    "z = torch.add(x, y)\n",
    "print(z)\n",
    "torch.add(x, y, out=z)\n",
    "print(z)\n",
    "y.add_(x)\n",
    "print(y)\n",
    "\"\"\"\n",
    "Any operation with an _, for excample: x.copy_(y),x.t_(), will change x\n",
    "\"\"\""
   ]
  },
  {
   "cell_type": "code",
   "execution_count": 13,
   "metadata": {},
   "outputs": [
    {
     "name": "stdout",
     "output_type": "stream",
     "text": [
      "tensor([[ 1.5104, -0.3548,  1.7886,  0.3022],\n",
      "        [ 0.4186, -1.0119, -0.4212, -1.4348],\n",
      "        [ 0.1776, -1.4461,  0.3139,  0.0272],\n",
      "        [-0.5850, -2.3200,  0.9425,  0.8902]])\n"
     ]
    }
   ],
   "source": [
    "x = torch.randn(4, 4) # randn generate normally distributed numbers while rand generate uniformed distributed\n",
    "print(x)"
   ]
  },
  {
   "cell_type": "code",
   "execution_count": 14,
   "metadata": {},
   "outputs": [
    {
     "name": "stdout",
     "output_type": "stream",
     "text": [
      "tensor([[-0.3548,  1.7886],\n",
      "        [-1.0119, -0.4212],\n",
      "        [-1.4461,  0.3139],\n",
      "        [-2.3200,  0.9425]])\n"
     ]
    }
   ],
   "source": [
    "print(x[:,1:-1])  # support slice like numpy"
   ]
  },
  {
   "cell_type": "code",
   "execution_count": 15,
   "metadata": {},
   "outputs": [
    {
     "name": "stdout",
     "output_type": "stream",
     "text": [
      "torch.Size([4, 4]) torch.Size([16]) torch.Size([16]) torch.Size([2, 8])\n"
     ]
    }
   ],
   "source": [
    "y = x.view(16)    # view() can resize/reshape a tensor\n",
    "z = x.view(-1)    # -1 is inferred from other dimensions\n",
    "u = x.view(-1, 8)\n",
    "print(x.size(),y.size(),z.size(),u.size())"
   ]
  },
  {
   "cell_type": "code",
   "execution_count": 18,
   "metadata": {},
   "outputs": [
    {
     "name": "stdout",
     "output_type": "stream",
     "text": [
      "0.8902276158332825\n",
      "-1.1196881532669067\n"
     ]
    }
   ],
   "source": [
    "print(x[-1][-1].item())      # one element tensor can use item() to get its value as a Python number\n",
    "print(torch.randn(1).item())"
   ]
  },
  {
   "cell_type": "code",
   "execution_count": 19,
   "metadata": {},
   "outputs": [
    {
     "name": "stdout",
     "output_type": "stream",
     "text": [
      "tensor([1., 1., 1., 1., 1.])\n",
      "[1. 1. 1. 1. 1.]\n",
      "tensor([2., 2., 2., 2., 2.])\n",
      "[2. 2. 2. 2. 2.]\n"
     ]
    }
   ],
   "source": [
    "a = torch.ones(5)\n",
    "print(a)\n",
    "b = a.numpy()       # use numpy() to return a numpy array\n",
    "print(b)\n",
    "a.add_(1)           # add_ change a\n",
    "print(a)\n",
    "print(b)            # b is also changed, so numpy() is a low copy of a "
   ]
  },
  {
   "cell_type": "code",
   "execution_count": 20,
   "metadata": {},
   "outputs": [
    {
     "name": "stdout",
     "output_type": "stream",
     "text": [
      "[2. 2. 2. 2. 2.]\n",
      "tensor([2., 2., 2., 2., 2.], dtype=torch.float64)\n"
     ]
    }
   ],
   "source": [
    "import numpy as np\n",
    "a = np.ones(5)\n",
    "b = torch.from_numpy(a)   # this is also a low copy\n",
    "np.add(a, 1, out=a)\n",
    "print(a)\n",
    "print(b)"
   ]
  },
  {
   "cell_type": "code",
   "execution_count": 21,
   "metadata": {},
   "outputs": [
    {
     "name": "stdout",
     "output_type": "stream",
     "text": [
      "tensor([[ 2.5104,  0.6452,  2.7886,  1.3022],\n",
      "        [ 1.4186, -0.0119,  0.5788, -0.4348],\n",
      "        [ 1.1776, -0.4461,  1.3139,  1.0272],\n",
      "        [ 0.4150, -1.3200,  1.9425,  1.8902]], device='cuda:0')\n",
      "tensor([[ 2.5104,  0.6452,  2.7886,  1.3022],\n",
      "        [ 1.4186, -0.0119,  0.5788, -0.4348],\n",
      "        [ 1.1776, -0.4461,  1.3139,  1.0272],\n",
      "        [ 0.4150, -1.3200,  1.9425,  1.8902]], dtype=torch.float64)\n"
     ]
    }
   ],
   "source": [
    "if torch.cuda.is_available():\n",
    "    device = torch.device(\"cuda\")   # a CUDA divice object\n",
    "    y = torch.ones_like(x, device=device)   # use device arg to create a tensor on gpu\n",
    "    x = x.to(device)                        # or use .to('cuda')/.to(device)\n",
    "    z = x + y                               # calculate on gpu\n",
    "    print(z)\n",
    "    print(z.to(\"cpu\", dtype=torch.float64)) # .to(..) also can change dtype"
   ]
  },
  {
   "cell_type": "code",
   "execution_count": null,
   "metadata": {},
   "outputs": [],
   "source": []
  },
  {
   "cell_type": "code",
   "execution_count": null,
   "metadata": {},
   "outputs": [],
   "source": []
  },
  {
   "cell_type": "code",
   "execution_count": null,
   "metadata": {},
   "outputs": [],
   "source": []
  },
  {
   "cell_type": "code",
   "execution_count": null,
   "metadata": {},
   "outputs": [],
   "source": []
  },
  {
   "cell_type": "code",
   "execution_count": null,
   "metadata": {},
   "outputs": [],
   "source": []
  },
  {
   "cell_type": "code",
   "execution_count": null,
   "metadata": {},
   "outputs": [],
   "source": []
  }
 ],
 "metadata": {
  "kernelspec": {
   "display_name": "a3c",
   "language": "python",
   "name": "env_for_a3c"
  },
  "language_info": {
   "codemirror_mode": {
    "name": "ipython",
    "version": 3
   },
   "file_extension": ".py",
   "mimetype": "text/x-python",
   "name": "python",
   "nbconvert_exporter": "python",
   "pygments_lexer": "ipython3",
   "version": "3.6.3"
  }
 },
 "nbformat": 4,
 "nbformat_minor": 2
}
